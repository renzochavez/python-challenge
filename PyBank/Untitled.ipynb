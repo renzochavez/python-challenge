{
 "cells": [
  {
   "cell_type": "code",
   "execution_count": 70,
   "metadata": {},
   "outputs": [
    {
     "name": "stdout",
     "output_type": "stream",
     "text": [
      "Financial Analysis\n",
      "----------------------------\n",
      "Total Months: 86\n",
      "Total: $38382578\n",
      "Average Change: $441349.34117647057\n",
      "Greatest Increase in Profits: Feb-2012 ($1926159)\n",
      "Greatest Decrease in Profits: Sep-2013 ($-2196167)\n"
     ]
    }
   ],
   "source": [
    "import csv\n",
    "\n",
    "csvpath_output = (\"main.txt\")\n",
    "\n",
    "row_count=0\n",
    "total_sum=0\n",
    "total_list_changes= []\n",
    "largest_increase=[\"\",0]\n",
    "largest_decrease=[\"\",999999]\n",
    "\n",
    "with open('Resources/budget_data.csv', 'r') as budget_csv:\n",
    "    csv_reader = csv.reader(budget_csv, delimiter=',')\n",
    "    header = next(csv_reader)\n",
    "    first_row = next(csv_reader)\n",
    "    lastmonth_change = int(first_row[1])\n",
    "    total_sum+= int(first_row[1])\n",
    "    row_count+=row_count+1\n",
    "\n",
    "    for row in csv_reader:\n",
    "        \n",
    "        total_change = int(row[1]) - lastmonth_change\n",
    "        if total_change > largest_increase[1]:\n",
    "            largest_increase[1] = total_change\n",
    "            largest_increase[0] = row[0]\n",
    "        if total_change < largest_decrease[1]:\n",
    "            largest_decrease[1] = total_change\n",
    "            largest_decrease[0] = row[0]  \n",
    "        total_list_changes.append(int(row[1]))\n",
    "        #largest_increase=max(largest_increase,total_change)\n",
    "       # largest_decrease=min(largest_decrease,total_change)\n",
    "        row_count+= 1\n",
    "        total_sum+= int(row[1])\n",
    "        lastmonth_change = int(row[1]) \n",
    "        \n",
    "        \n",
    "monthly_avg = sum(total_list_changes)/len(total_list_changes)    \n",
    "\n",
    "print('Financial Analysis')\n",
    "print('----------------------------')\n",
    "print(f\"Total Months: {row_count}\")\n",
    "print(f\"Total: ${total_sum}\")\n",
    "print(f\"Average Change: ${monthly_avg}\")\n",
    "print(f\"Greatest Increase in Profits: {largest_increase[0]} (${largest_increase[1]})\") \n",
    "print(f\"Greatest Decrease in Profits: {largest_decrease[0]} (${largest_decrease[1]})\")  \n",
    "\n",
    "with open(csvpath_output, \"w\") as txt_file:\n",
    "    txt_file.write(\"Total Months: \" + str(row_count))\n",
    "    txt_file.write(\"\\n\")\n",
    "    txt_file.write(\"Total: \" + \"$\" + str(total_sum))\n",
    "    txt_file.write(\"\\n\")\n",
    "    txt_file.write(\"Average Change: \" + \"$\" + str(round(monthly_avg,2)))\n",
    "    txt_file.write(\"\\n\")\n",
    "    txt_file.write(\"Greatest Increase: \" + str(largest_increase[0]) + \" ($\" + str(largest_increase[1]) + \")\") \n",
    "    txt_file.write(\"\\n\")\n",
    "    txt_file.write(\"Greatest Decrease: \" + str(largest_decrease[0]) + \" ($\" + str(largest_decrease[1]) + \")\")"
   ]
  },
  {
   "cell_type": "code",
   "execution_count": 13,
   "metadata": {},
   "outputs": [
    {
     "data": {
      "text/plain": [
       "76765156"
      ]
     },
     "execution_count": 13,
     "metadata": {},
     "output_type": "execute_result"
    }
   ],
   "source": []
  },
  {
   "cell_type": "code",
   "execution_count": null,
   "metadata": {},
   "outputs": [],
   "source": []
  }
 ],
 "metadata": {
  "kernelspec": {
   "display_name": "Python [conda env:PythonData] *",
   "language": "python",
   "name": "conda-env-PythonData-py"
  },
  "language_info": {
   "codemirror_mode": {
    "name": "ipython",
    "version": 3
   },
   "file_extension": ".py",
   "mimetype": "text/x-python",
   "name": "python",
   "nbconvert_exporter": "python",
   "pygments_lexer": "ipython3",
   "version": "3.6.12"
  }
 },
 "nbformat": 4,
 "nbformat_minor": 4
}
